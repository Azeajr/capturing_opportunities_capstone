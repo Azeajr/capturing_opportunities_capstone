{
 "cells": [
  {
   "cell_type": "code",
   "execution_count": 1,
   "metadata": {},
   "outputs": [
    {
     "name": "stderr",
     "output_type": "stream",
     "text": [
      "2024-05-01 21:43:08.624369: I tensorflow/core/util/port.cc:111] oneDNN custom operations are on. You may see slightly different numerical results due to floating-point round-off errors from different computation orders. To turn them off, set the environment variable `TF_ENABLE_ONEDNN_OPTS=0`.\n",
      "2024-05-01 21:43:08.626360: I tensorflow/tsl/cuda/cudart_stub.cc:28] Could not find cuda drivers on your machine, GPU will not be used.\n",
      "2024-05-01 21:43:08.658740: E tensorflow/compiler/xla/stream_executor/cuda/cuda_dnn.cc:9342] Unable to register cuDNN factory: Attempting to register factory for plugin cuDNN when one has already been registered\n",
      "2024-05-01 21:43:08.658768: E tensorflow/compiler/xla/stream_executor/cuda/cuda_fft.cc:609] Unable to register cuFFT factory: Attempting to register factory for plugin cuFFT when one has already been registered\n",
      "2024-05-01 21:43:08.658787: E tensorflow/compiler/xla/stream_executor/cuda/cuda_blas.cc:1518] Unable to register cuBLAS factory: Attempting to register factory for plugin cuBLAS when one has already been registered\n",
      "2024-05-01 21:43:08.664222: I tensorflow/tsl/cuda/cudart_stub.cc:28] Could not find cuda drivers on your machine, GPU will not be used.\n",
      "2024-05-01 21:43:08.664887: I tensorflow/core/platform/cpu_feature_guard.cc:182] This TensorFlow binary is optimized to use available CPU instructions in performance-critical operations.\n",
      "To enable the following instructions: AVX2 AVX512F AVX512_VNNI FMA, in other operations, rebuild TensorFlow with the appropriate compiler flags.\n",
      "2024-05-01 21:43:09.305741: W tensorflow/compiler/tf2tensorrt/utils/py_utils.cc:38] TF-TRT Warning: Could not find TensorRT\n"
     ]
    },
    {
     "name": "stdout",
     "output_type": "stream",
     "text": [
      "Found 1 files belonging to 1 classes.\n",
      "100\n",
      "3/3 [==============================] - 1s 54ms/step - loss: 0.6923\n"
     ]
    },
    {
     "data": {
      "text/plain": [
       "<keras.src.callbacks.History at 0x7fb048411490>"
      ]
     },
     "execution_count": 1,
     "metadata": {},
     "output_type": "execute_result"
    }
   ],
   "source": [
    "import math\n",
    "import numpy as np\n",
    "import tensorflow as tf\n",
    "import keras\n",
    "from keras.models import Model\n",
    "from pathlib import Path\n",
    "\n",
    "TARGET_SIZE = (224, 224)\n",
    "BATCH_SIZE = 32\n",
    "DESIRED_TRAIN_SIZE = 100\n",
    "\n",
    "# ImageDataGenerator = tf.keras.preprocessing.image.ImageDataGenerator\n",
    "\n",
    "\n",
    "img_path = Path(\"training\")  # Assuming 'images' is your directory\n",
    "\n",
    "\n",
    "train_ds: tf.data.Dataset = keras.preprocessing.image_dataset_from_directory(\n",
    "    img_path,\n",
    "    labels=None,\n",
    "    seed=123,\n",
    "    image_size=TARGET_SIZE,\n",
    "    batch_size=BATCH_SIZE,\n",
    ")\n",
    "img_count = len(train_ds.file_paths)\n",
    "factor = math.ceil(DESIRED_TRAIN_SIZE / img_count)\n",
    "\n",
    "\n",
    "data_augmentation = keras.Sequential(\n",
    "    [\n",
    "        keras.layers.experimental.preprocessing.Rescaling(1.0 / 255),\n",
    "        keras.layers.experimental.preprocessing.RandomRotation(0.1),\n",
    "        keras.layers.experimental.preprocessing.RandomWidth(0.1),\n",
    "        keras.layers.experimental.preprocessing.RandomHeight(0.1),\n",
    "        keras.layers.experimental.preprocessing.RandomZoom(0.1),\n",
    "        keras.layers.experimental.preprocessing.RandomFlip(\"horizontal\"),\n",
    "        keras.layers.experimental.preprocessing.Resizing(*TARGET_SIZE),\n",
    "    ]\n",
    ")\n",
    "\n",
    "train_ds = train_ds.repeat(factor).map(\n",
    "    lambda x: (data_augmentation(x, training=True), data_augmentation(x, training=True))\n",
    ")\n",
    "\n",
    "\n",
    "print(train_ds.cardinality().numpy())\n",
    "\n",
    "input_img = keras.layers.Input(shape=(224, 224, 3))\n",
    "x = keras.layers.Conv2D(32, (3, 3), activation=\"relu\", padding=\"same\")(input_img)\n",
    "x = keras.layers.MaxPooling2D((2, 2), padding=\"same\")(x)\n",
    "x = keras.layers.Conv2D(16, (3, 3), activation=\"relu\", padding=\"same\")(x)\n",
    "encoded = keras.layers.MaxPooling2D((2, 2), padding=\"same\")(x)\n",
    "\n",
    "x = keras.layers.Conv2D(16, (3, 3), activation=\"relu\", padding=\"same\")(encoded)\n",
    "x = keras.layers.UpSampling2D((2, 2))(x)\n",
    "x = keras.layers.Conv2D(32, (3, 3), activation=\"relu\", padding=\"same\")(x)\n",
    "x = keras.layers.UpSampling2D((2, 2))(x)\n",
    "decoded = keras.layers.Conv2D(3, (3, 3), activation=\"sigmoid\", padding=\"same\")(x)\n",
    "\n",
    "autoencoder = Model(input_img, decoded)\n",
    "autoencoder.compile(optimizer=\"adam\", loss=\"binary_crossentropy\")\n",
    "steps_per_epoch = img_count * factor // BATCH_SIZE\n",
    "\n",
    "autoencoder.fit(train_ds, epochs=1, steps_per_epoch=steps_per_epoch)"
   ]
  },
  {
   "cell_type": "code",
   "execution_count": 2,
   "metadata": {},
   "outputs": [
    {
     "name": "stdout",
     "output_type": "stream",
     "text": [
      "Found 49 files belonging to 1 classes.\n",
      "[('owl1.jpg', 0.4650032), ('pexels-dsd-143941-1829979.jpg', 0.22578938), ('pexels-george-desipris-792381.jpg', 0.3568748), ('pexels-pixabay-461329.jpg', 0.28034148), ('pexels-8moments-1181181.jpg', 0.20166254), ('pexels-ekamelev-751689.jpg', 0.27698615), ('pexels-frans-van-heerden-201846-631317.jpg', 0.19831905), ('pexels-alexasfotos-2220336.jpg', 0.17801252), ('pexels-itfeelslikefilm-1083502.jpg', 0.31200835), ('pexels-pixabay-70080.jpg', 0.18742986), ('pexels-dsd-143941-1829979 (1).jpg', 0.2404782), ('pexels-pixabay-45853.jpg', 0.34787196), ('pexels-pixabay-236599.jpg', 0.37365955), ('pexels-pixabay-2361.jpg', 0.120844625), ('pexels-pixabay-86596.jpg', 0.207748), ('pexels-pixabay-47547.jpg', 0.20994629), ('pexels-frans-van-heerden-201846-802112.jpg', 0.27385104), ('pexels-richard-segal-732340-1618606.jpg', 0.21831523), ('pexels-pixabay-64219.jpg', 0.20747449), ('pexels-belle-co-99483-847393.jpg', 0.23396052), ('pexels-jimbear-1000529.jpg', 0.2807711), ('pexels-ekamelev-927497.jpg', 0.21831523), ('pexels-pixabay-46254.jpg', 0.21303947), ('pexels-atikul-haque-rafat-211966-679598.jpg', 0.3544266), ('pexels-pixabay-460223.jpg', 0.20946686), ('pexels-magda-ehlers-pexels-1319515.jpg', 0.18956895), ('pexels-pixabay-247376.jpg', 0.26384252), ('pexels-pixabay-357159.jpg', 0.32008994), ('pexels-koprivakart-3280908.jpg', 0.2010098), ('pexels-pixabay-33045.jpg', 0.2846433), ('pexels-monique-laats-230726-733090.jpg', 0.321973), ('pexels-itfeelslikefilm-1068554 (1).jpg', 0.3187952), ('pexels-pixabay-53125.jpg', 0.35599047), ('pexels-creativebin-38994-135940.jpg', 0.20890692), ('pexels-richard-verbeek-177679-572861.jpg', 0.21808939), ('pexels-andreas-barth-89047-1131774.jpg', 0.12960324), ('pexels-pixabay-219906.jpg', 0.21737522), ('pexels-pixabay-207001.jpg', 0.39482796), ('pexels-alex-andrews-271121-2295744.jpg', 0.21314056), ('pexels-inspiredimages-133396.jpg', 0.32441998), ('pexels-pixabay-34231.jpg', 0.2681193), ('pexels-hans-martha-399489-1059823.jpg', 0.21821167), ('pexels-couleur-2317904.jpg', 0.3781825), ('pexels-frans-van-heerden-201846-631292.jpg', 0.2807711), ('pexels-pixabay-460775.jpg', 0.2648725), ('pexels-itfeelslikefilm-1068554.jpg', 0.21388312), ('pexels-pixabay-36762.jpg', 0.26856995), ('pexels-andre-mouton-1207875.jpg', 0.2402425), ('pexels-hsapir-1054655.jpg', 0.28058192)]\n"
     ]
    }
   ],
   "source": [
    "img_path = Path(\"collection\")\n",
    "\n",
    "collection_ds: tf.data.Dataset = keras.preprocessing.image_dataset_from_directory(\n",
    "    img_path,\n",
    "    labels=None,\n",
    "    image_size=TARGET_SIZE,\n",
    "    batch_size=BATCH_SIZE,\n",
    ")\n",
    "\n",
    "\n",
    "file_paths = [Path(path).name for path in collection_ds.file_paths]\n",
    "\n",
    "\n",
    "data_augmentation = keras.Sequential(\n",
    "    [\n",
    "        keras.layers.Rescaling(1.0 / 255),\n",
    "        keras.layers.Resizing(*TARGET_SIZE),\n",
    "    ]\n",
    ")\n",
    "\n",
    "collection_ds = collection_ds.map(\n",
    "    data_augmentation, num_parallel_calls=tf.data.AUTOTUNE\n",
    ")\n",
    "\n",
    "\n",
    "def compute_error(batch):\n",
    "    reconstructions = autoencoder(batch, training=False)\n",
    "    return tf.reduce_mean(tf.abs(batch - reconstructions), axis=(1, 2, 3))\n",
    "\n",
    "\n",
    "errors = collection_ds.map(compute_error, num_parallel_calls=tf.data.AUTOTUNE)\n",
    "\n",
    "errors = np.concatenate(list(errors.as_numpy_iterator()))\n",
    "\n",
    "print(list(zip(file_paths, errors)))"
   ]
  }
 ],
 "metadata": {
  "kernelspec": {
   "display_name": ".venv",
   "language": "python",
   "name": "python3"
  },
  "language_info": {
   "codemirror_mode": {
    "name": "ipython",
    "version": 3
   },
   "file_extension": ".py",
   "mimetype": "text/x-python",
   "name": "python",
   "nbconvert_exporter": "python",
   "pygments_lexer": "ipython3",
   "version": "3.11.8"
  }
 },
 "nbformat": 4,
 "nbformat_minor": 2
}
